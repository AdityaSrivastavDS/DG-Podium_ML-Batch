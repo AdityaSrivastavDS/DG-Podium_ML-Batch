{
 "cells": [
  {
   "cell_type": "code",
   "execution_count": 1,
   "id": "21ac40ce",
   "metadata": {},
   "outputs": [],
   "source": [
    "import random"
   ]
  },
  {
   "cell_type": "code",
   "execution_count": 3,
   "id": "a192c3e0",
   "metadata": {},
   "outputs": [],
   "source": [
    "n_machine = 3\n",
    "n_trials = 10"
   ]
  },
  {
   "cell_type": "code",
   "execution_count": 4,
   "id": "86117803",
   "metadata": {},
   "outputs": [],
   "source": [
    "true_rewards = [0.2, 0.5, 0.8]"
   ]
  },
  {
   "cell_type": "code",
   "execution_count": 6,
   "id": "26eddacc",
   "metadata": {},
   "outputs": [],
   "source": [
    "success = [0] * n_machine\n",
    "failures = [0] * n_machine"
   ]
  },
  {
   "cell_type": "code",
   "execution_count": 7,
   "id": "076347e3",
   "metadata": {},
   "outputs": [],
   "source": [
    "for i in range(n_trials):\n",
    "    sampled_values = [random.betavariate(success[i] + 1, failures[i] + 1) for i in range(n_machine)]\n",
    "    arm = sampled_values.index(max(sampled_values)) # Select the arm with the highest sampled value\n",
    "    reward = 1 if random.random() < true_rewards[arm] else 0 # Simulate the reward based on the true reward of the selected arm\n",
    "\n",
    "    if reward == 1:\n",
    "        success[arm] += 1\n",
    "    else:\n",
    "        failures[arm] += 1\n",
    "        \n"
   ]
  },
  {
   "cell_type": "code",
   "execution_count": 22,
   "id": "78d13d1e",
   "metadata": {},
   "outputs": [
    {
     "name": "stdout",
     "output_type": "stream",
     "text": [
      "Machine 1: Played 0 times, Estimated win rate: N/A (no plays yet)\n",
      "Machine 2: Played 6 times, Estimated win rate: 0.50\n",
      "Machine 3: Played 4 times, Estimated win rate: 0.75\n",
      "Best Machine to play:  2\n"
     ]
    }
   ],
   "source": [
    "for i in range(n_machine):\n",
    "    total = success[i] + failures[i]\n",
    "    if total > 0:\n",
    "        print(f'Machine {i+1}: Played {total} times, Estimated win rate: {success[i]/total:.2f}')\n",
    "    else:\n",
    "        print(f'Machine {i+1}: Played {total} times, Estimated win rate: N/A (no plays yet)')\n",
    "print(\"Best Machine to play: \", success.index(max(success)) + 1)"
   ]
  },
  {
   "cell_type": "code",
   "execution_count": null,
   "id": "353bf582",
   "metadata": {},
   "outputs": [],
   "source": []
  }
 ],
 "metadata": {
  "kernelspec": {
   "display_name": "base",
   "language": "python",
   "name": "python3"
  },
  "language_info": {
   "codemirror_mode": {
    "name": "ipython",
    "version": 3
   },
   "file_extension": ".py",
   "mimetype": "text/x-python",
   "name": "python",
   "nbconvert_exporter": "python",
   "pygments_lexer": "ipython3",
   "version": "3.12.9"
  }
 },
 "nbformat": 4,
 "nbformat_minor": 5
}
